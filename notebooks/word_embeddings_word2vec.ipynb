{
 "cells": [
  {
   "cell_type": "markdown",
   "id": "3ee09fdd",
   "metadata": {},
   "source": [
    "# Teaching Word Embeddings and Word2Vec\n",
    "\n",
    "Welcome! This notebook is designed as a comprehensive teaching aid for introducing word embeddings and the Word2Vec algorithm to an NLP class. Feel free to run the code cells and modify the examples to fit your lesson plan."
   ]
  },
  {
   "cell_type": "markdown",
   "id": "6cda343f",
   "metadata": {},
   "source": [
    "## Learning Objectives\n",
    "\n",
    "By the end of this lesson, students should be able to:\n",
    "\n",
    "1. Explain what word embeddings are and why they are useful.\n",
    "2. Understand the difference between one-hot encodings and dense embeddings.\n",
    "3. Describe the intuition behind the Word2Vec algorithm (CBOW and Skip-Gram).\n",
    "4. Train a Word2Vec model on a small corpus using `gensim`.\n",
    "5. Evaluate embeddings through similarity queries and analogies."
   ]
  },
  {
   "cell_type": "markdown",
   "id": "58fad2ac",
   "metadata": {},
   "source": [
    "## 1. Introduction to Word Embeddings\n",
    "\n",
    "Word embeddings map words to vectors of real numbers so that semantic relationships in language correspond to geometric relationships in vector space. Unlike sparse one-hot vectors, embeddings are dense and capture similarity: words that appear in similar contexts obtain similar vectors.\n",
    "\n",
    "Classic embedding models include:\n",
    "\n",
    "- **Word2Vec**: Predicts a target word from surrounding context (CBOW) or context words from a target word (Skip-Gram).\n",
    "- **GloVe**: Learns embeddings from global co-occurrence statistics.\n",
    "- **FastText**: Extends Word2Vec with subword information, improving representations for rare or morphologically rich words."
   ]
  },
  {
   "cell_type": "markdown",
   "id": "f977548e",
   "metadata": {},
   "source": [
    "### Discussion Prompt\n",
    "\n",
    "*Ask students:* Why might one-hot vectors be insufficient for capturing semantic similarity between words?"
   ]
  },
  {
   "cell_type": "markdown",
   "id": "c095e9e3",
   "metadata": {},
   "source": [
    "## 2. Preparing the Environment\n",
    "\n",
    "The following imports use the `gensim` library to train a Word2Vec model. If `gensim` is not installed in your environment, install it with `pip install gensim`.\n",
    "\n",
    "We also use `nltk` for tokenization, though you can swap in your preferred tokenizer."
   ]
  },
  {
   "cell_type": "code",
   "execution_count": 1,
   "id": "fd93cc14",
   "metadata": {
    "execution": {
     "iopub.execute_input": "2025-10-19T14:36:32.772274Z",
     "iopub.status.busy": "2025-10-19T14:36:32.772094Z",
     "iopub.status.idle": "2025-10-19T14:36:32.776271Z",
     "shell.execute_reply": "2025-10-19T14:36:32.775539Z"
    }
   },
   "outputs": [],
   "source": [
    "# Uncomment the line below if you need to install gensim or nltk in a new environment\n",
    "# !pip install gensim nltk"
   ]
  },
  {
   "cell_type": "code",
   "execution_count": 2,
   "id": "768a6bbe",
   "metadata": {
    "execution": {
     "iopub.execute_input": "2025-10-19T14:36:32.778287Z",
     "iopub.status.busy": "2025-10-19T14:36:32.778111Z",
     "iopub.status.idle": "2025-10-19T14:36:34.075066Z",
     "shell.execute_reply": "2025-10-19T14:36:34.074461Z"
    }
   },
   "outputs": [
    {
     "data": {
      "text/plain": [
       "True"
      ]
     },
     "execution_count": 2,
     "metadata": {},
     "output_type": "execute_result"
    }
   ],
   "source": [
    "import itertools\n",
    "from collections import Counter\n",
    "\n",
    "from gensim.models import Word2Vec\n",
    "from gensim.utils import simple_preprocess\n",
    "\n",
    "import nltk\n",
    "from nltk.corpus import stopwords\n",
    "from nltk import download\n",
    "\n",
    "# Download the stopwords corpus if it is not already present\n",
    "download('stopwords', quiet=True)"
   ]
  },
  {
   "cell_type": "markdown",
   "id": "bd83d77a",
   "metadata": {},
   "source": [
    "### Teaching Tip\n",
    "\n",
    "Explain how libraries like `gensim` abstract away the heavy numerical optimization, letting practitioners focus on the data and evaluation of embeddings."
   ]
  },
  {
   "cell_type": "markdown",
   "id": "a3093748",
   "metadata": {},
   "source": [
    "## 3. Building a Toy Corpus\n",
    "\n",
    "For classroom demonstrations, a small, thematic corpus keeps the training time short. Below we build a mini-corpus about travel and food. Encourage students to augment the corpus with their own sentences and observe how the embeddings change."
   ]
  },
  {
   "cell_type": "code",
   "execution_count": 3,
   "id": "e4757f80",
   "metadata": {
    "execution": {
     "iopub.execute_input": "2025-10-19T14:36:34.078238Z",
     "iopub.status.busy": "2025-10-19T14:36:34.077684Z",
     "iopub.status.idle": "2025-10-19T14:36:34.081726Z",
     "shell.execute_reply": "2025-10-19T14:36:34.081186Z"
    }
   },
   "outputs": [
    {
     "name": "stdout",
     "output_type": "stream",
     "text": [
      "Travelers love exploring new cities and tasting local cuisine.\n",
      "The chef prepared a traditional meal with fresh ingredients.\n",
      "Adventurers hike mountains and navigate forests during their trips.\n",
      "Cafes often serve pastries alongside aromatic coffee.\n",
      "Guides recommend hidden restaurants that locals adore.\n",
      "Tourists photograph landmarks and share stories online.\n",
      "Families plan vacations to relax and enjoy cultural experiences.\n",
      "Street food stalls offer quick bites packed with flavor.\n",
      "Cyclists explore scenic routes and discover quaint villages.\n",
      "Cooking classes teach travelers to prepare authentic dishes.\n"
     ]
    }
   ],
   "source": [
    "raw_corpus = [\n",
    "    \"Travelers love exploring new cities and tasting local cuisine.\",\n",
    "    \"The chef prepared a traditional meal with fresh ingredients.\",\n",
    "    \"Adventurers hike mountains and navigate forests during their trips.\",\n",
    "    \"Cafes often serve pastries alongside aromatic coffee.\",\n",
    "    \"Guides recommend hidden restaurants that locals adore.\",\n",
    "    \"Tourists photograph landmarks and share stories online.\",\n",
    "    \"Families plan vacations to relax and enjoy cultural experiences.\",\n",
    "    \"Street food stalls offer quick bites packed with flavor.\",\n",
    "    \"Cyclists explore scenic routes and discover quaint villages.\",\n",
    "    \"Cooking classes teach travelers to prepare authentic dishes.\"\n",
    "]\n",
    "\n",
    "for sentence in raw_corpus:\n",
    "    print(sentence)"
   ]
  },
  {
   "cell_type": "markdown",
   "id": "68dd610e",
   "metadata": {},
   "source": [
    "### Classroom Exercise\n",
    "\n",
    "Invite students to:\n",
    "\n",
    "1. Extend the corpus with domain-specific sentences (e.g., technology, sports).\n",
    "2. Predict which words will end up near each other in embedding space and justify their reasoning."
   ]
  },
  {
   "cell_type": "markdown",
   "id": "ca72bcd5",
   "metadata": {},
   "source": [
    "## 4. Preprocessing the Corpus\n",
    "\n",
    "We lower-case and tokenize the sentences, remove stop words to focus on informative tokens, and inspect the vocabulary size. Use this section to discuss trade-offs in preprocessing (e.g., removing vs. keeping stop words, stemming vs. lemmatization)."
   ]
  },
  {
   "cell_type": "code",
   "execution_count": 4,
   "id": "684853fb",
   "metadata": {
    "execution": {
     "iopub.execute_input": "2025-10-19T14:36:34.083301Z",
     "iopub.status.busy": "2025-10-19T14:36:34.083138Z",
     "iopub.status.idle": "2025-10-19T14:36:34.089388Z",
     "shell.execute_reply": "2025-10-19T14:36:34.088870Z"
    }
   },
   "outputs": [
    {
     "name": "stdout",
     "output_type": "stream",
     "text": [
      "[['travelers', 'love', 'exploring', 'new', 'cities', 'tasting', 'local', 'cuisine'], ['chef', 'prepared', 'traditional', 'meal', 'fresh', 'ingredients'], ['adventurers', 'hike', 'mountains', 'navigate', 'forests', 'trips'], ['cafes', 'often', 'serve', 'pastries', 'alongside', 'aromatic', 'coffee'], ['guides', 'recommend', 'hidden', 'restaurants', 'locals', 'adore'], ['tourists', 'photograph', 'landmarks', 'share', 'stories', 'online'], ['families', 'plan', 'vacations', 'relax', 'enjoy', 'cultural', 'experiences'], ['street', 'food', 'stalls', 'offer', 'quick', 'bites', 'packed', 'flavor'], ['cyclists', 'explore', 'scenic', 'routes', 'discover', 'quaint', 'villages'], ['cooking', 'classes', 'teach', 'travelers', 'prepare', 'authentic', 'dishes']]\n"
     ]
    }
   ],
   "source": [
    "stop_words = set(stopwords.words('english'))\n",
    "\n",
    "processed_corpus = []\n",
    "for sentence in raw_corpus:\n",
    "    tokens = [token for token in simple_preprocess(sentence) if token not in stop_words]\n",
    "    processed_corpus.append(tokens)\n",
    "\n",
    "print(processed_corpus)"
   ]
  },
  {
   "cell_type": "code",
   "execution_count": 5,
   "id": "53affafd",
   "metadata": {
    "execution": {
     "iopub.execute_input": "2025-10-19T14:36:34.090902Z",
     "iopub.status.busy": "2025-10-19T14:36:34.090747Z",
     "iopub.status.idle": "2025-10-19T14:36:34.094095Z",
     "shell.execute_reply": "2025-10-19T14:36:34.093530Z"
    }
   },
   "outputs": [
    {
     "name": "stdout",
     "output_type": "stream",
     "text": [
      "Vocabulary size: 67\n",
      "[('travelers', 2), ('love', 1), ('exploring', 1), ('new', 1), ('cities', 1), ('tasting', 1), ('local', 1), ('cuisine', 1), ('chef', 1), ('prepared', 1)]\n"
     ]
    }
   ],
   "source": [
    "flat_tokens = list(itertools.chain.from_iterable(processed_corpus))\n",
    "vocab_counts = Counter(flat_tokens)\n",
    "\n",
    "print(f\"Vocabulary size: {len(vocab_counts)}\")\n",
    "print(vocab_counts.most_common(10))"
   ]
  },
  {
   "cell_type": "markdown",
   "id": "640fcc2c",
   "metadata": {},
   "source": [
    "### Discussion Prompt\n",
    "\n",
    "*Ask students:* How might our choices in preprocessing affect the resulting embeddings?"
   ]
  },
  {
   "cell_type": "markdown",
   "id": "7b2bb92c",
   "metadata": {},
   "source": [
    "## 5. Training a Word2Vec Model\n",
    "\n",
    "We train a Skip-Gram model (set `sg=1`) on the toy corpus. Highlight the key hyperparameters:\n",
    "\n",
    "- `vector_size`: dimensionality of embeddings\n",
    "- `window`: size of the context window around each target word\n",
    "- `min_count`: ignores words with total frequency lower than this value\n",
    "- `workers`: number of worker threads (parallelism)\n",
    "- `epochs`: number of training iterations over the corpus"
   ]
  },
  {
   "cell_type": "code",
   "execution_count": 6,
   "id": "8f0e398f",
   "metadata": {
    "execution": {
     "iopub.execute_input": "2025-10-19T14:36:34.095565Z",
     "iopub.status.busy": "2025-10-19T14:36:34.095416Z",
     "iopub.status.idle": "2025-10-19T14:36:34.313777Z",
     "shell.execute_reply": "2025-10-19T14:36:34.312421Z"
    }
   },
   "outputs": [
    {
     "name": "stdout",
     "output_type": "stream",
     "text": [
      "Word2Vec<vocab=67, vector_size=50, alpha=0.025>\n"
     ]
    }
   ],
   "source": [
    "embedding_size = 50\n",
    "window_size = 4\n",
    "min_word_frequency = 1\n",
    "num_epochs = 200\n",
    "\n",
    "model = Word2Vec(\n",
    "    sentences=processed_corpus,\n",
    "    vector_size=embedding_size,\n",
    "    window=window_size,\n",
    "    min_count=min_word_frequency,\n",
    "    workers=1,\n",
    "    sg=1,  # Skip-Gram architecture\n",
    "    epochs=num_epochs,\n",
    "    seed=42,\n",
    ")\n",
    "\n",
    "print(model)"
   ]
  },
  {
   "cell_type": "markdown",
   "id": "ac363eb2",
   "metadata": {},
   "source": [
    "### Talking Points\n",
    "\n",
    "- Discuss the intuition of Skip-Gram versus CBOW.\n",
    "- Emphasize that larger corpora and more epochs lead to richer embeddings but require more compute.\n",
    "- Mention negative sampling and hierarchical softmax as optimization techniques (both configurable in `gensim`)."
   ]
  },
  {
   "cell_type": "markdown",
   "id": "016452ab",
   "metadata": {},
   "source": [
    "## 6. Exploring the Learned Embeddings\n",
    "\n",
    "After training, the model's `wv` attribute provides access to the embedding vectors and similarity methods. Encourage students to experiment with different words and observe semantic relationships."
   ]
  },
  {
   "cell_type": "code",
   "execution_count": 7,
   "id": "4de174c9",
   "metadata": {
    "execution": {
     "iopub.execute_input": "2025-10-19T14:36:34.315827Z",
     "iopub.status.busy": "2025-10-19T14:36:34.315594Z",
     "iopub.status.idle": "2025-10-19T14:36:34.322759Z",
     "shell.execute_reply": "2025-10-19T14:36:34.321950Z"
    }
   },
   "outputs": [
    {
     "name": "stdout",
     "output_type": "stream",
     "text": [
      "Embedding for 'travelers':\n",
      "[-0.00666086 -0.00034394  0.01197444 -0.00148477 -0.00042071  0.02153667\n",
      " -0.01651085  0.01625169 -0.01821971 -0.01724589  0.00230025  0.036213\n",
      " -0.0005885   0.02983014  0.01396206  0.00930048  0.00194633 -0.02438115\n",
      "  0.00571404  0.00122413 -0.0131609  -0.01321233 -0.02189214  0.02458908\n",
      "  0.0332509   0.00776717 -0.00350208  0.01166436 -0.00981802 -0.00101306\n",
      "  0.00143696 -0.00942358 -0.02187194  0.00065338  0.01518632 -0.00826624\n",
      "  0.01655426 -0.02083671 -0.02156644  0.0060365  -0.01810679  0.01153303\n",
      "  0.0286448  -0.01541105 -0.00728817  0.01521701  0.01156632  0.03323188\n",
      "  0.01443453 -0.00674019]\n",
      "\n",
      "Most similar words to 'travelers':\n",
      "  stalls       -> 0.575\n",
      "  bites        -> 0.569\n",
      "  restaurants  -> 0.568\n",
      "  alongside    -> 0.559\n",
      "  tourists     -> 0.551\n"
     ]
    }
   ],
   "source": [
    "word = 'travelers'\n",
    "print(f\"Embedding for '{word}':\")\n",
    "print(model.wv[word])\n",
    "\n",
    "print(f\"\\nMost similar words to '{word}':\")\n",
    "for similar_word, score in model.wv.most_similar(word, topn=5):\n",
    "    print(f\"  {similar_word:12s} -> {score:.3f}\")"
   ]
  },
  {
   "cell_type": "code",
   "execution_count": 8,
   "id": "6f876de2",
   "metadata": {
    "execution": {
     "iopub.execute_input": "2025-10-19T14:36:34.325046Z",
     "iopub.status.busy": "2025-10-19T14:36:34.324786Z",
     "iopub.status.idle": "2025-10-19T14:36:34.331194Z",
     "shell.execute_reply": "2025-10-19T14:36:34.329806Z"
    }
   },
   "outputs": [
    {
     "name": "stdout",
     "output_type": "stream",
     "text": [
      "\n",
      "Most similar words to 'chef':\n",
      "  restaurants  -> 0.355\n",
      "  travelers    -> 0.340\n",
      "  stalls       -> 0.278\n",
      "  prepare      -> 0.265\n",
      "  pastries     -> 0.258\n",
      "\n",
      "Most similar words to 'coffee':\n",
      "  offer        -> 0.583\n",
      "  cooking      -> 0.571\n",
      "  alongside    -> 0.560\n",
      "  vacations    -> 0.558\n",
      "  classes      -> 0.556\n",
      "\n",
      "Most similar words to 'dishes':\n",
      "  explore      -> 0.607\n",
      "  offer        -> 0.597\n",
      "  flavor       -> 0.572\n",
      "  prepare      -> 0.571\n",
      "  packed       -> 0.534\n",
      "\n",
      "Most similar words to 'vacations':\n",
      "  stalls       -> 0.595\n",
      "  coffee       -> 0.558\n",
      "  routes       -> 0.558\n",
      "  tourists     -> 0.556\n",
      "  offer        -> 0.556\n"
     ]
    }
   ],
   "source": [
    "# Explore relationships between culinary-related words\n",
    "for query_word in ['chef', 'coffee', 'dishes', 'vacations']:\n",
    "    print(f\"\\nMost similar words to '{query_word}':\")\n",
    "    for similar_word, score in model.wv.most_similar(query_word, topn=5):\n",
    "        print(f\"  {similar_word:12s} -> {score:.3f}\")"
   ]
  },
  {
   "cell_type": "markdown",
   "id": "51833def",
   "metadata": {},
   "source": [
    "### Exercise: Analogy Queries\n",
    "\n",
    "Word embeddings enable vector arithmetic to solve analogies. For example, \"king - man + woman ≈ queen\". With our small corpus, analogies may be rough, but the exercise illustrates the concept."
   ]
  },
  {
   "cell_type": "code",
   "execution_count": 9,
   "id": "d32cb286",
   "metadata": {
    "execution": {
     "iopub.execute_input": "2025-10-19T14:36:34.333171Z",
     "iopub.status.busy": "2025-10-19T14:36:34.332956Z",
     "iopub.status.idle": "2025-10-19T14:36:34.337192Z",
     "shell.execute_reply": "2025-10-19T14:36:34.336668Z"
    }
   },
   "outputs": [
    {
     "name": "stdout",
     "output_type": "stream",
     "text": [
      "restaurants  -> 0.420\n",
      "alongside    -> 0.386\n",
      "vacations    -> 0.357\n"
     ]
    }
   ],
   "source": [
    "def analogy(model, positive_terms, negative_terms, topn=3):\n",
    "    return model.wv.most_similar(positive=positive_terms, negative=negative_terms, topn=topn)\n",
    "\n",
    "try:\n",
    "    results = analogy(model, positive_terms=['coffee', 'chef'], negative_terms=['pastries'])\n",
    "    for word, score in results:\n",
    "        print(f\"{word:12s} -> {score:.3f}\")\n",
    "except KeyError as exc:\n",
    "    print(f\"Missing word in vocabulary: {exc}\")"
   ]
  },
  {
   "cell_type": "markdown",
   "id": "36f41fe9",
   "metadata": {},
   "source": [
    "## 7. Visualizing Embeddings with PCA\n",
    "\n",
    "Dimensionality reduction helps visualize high-dimensional embeddings. We use Principal Component Analysis (PCA) to project vectors to 2D. Discuss other options like t-SNE or UMAP for richer corpora."
   ]
  },
  {
   "cell_type": "code",
   "execution_count": 10,
   "id": "4c27183a",
   "metadata": {
    "execution": {
     "iopub.execute_input": "2025-10-19T14:36:34.339396Z",
     "iopub.status.busy": "2025-10-19T14:36:34.339224Z",
     "iopub.status.idle": "2025-10-19T14:36:34.891685Z",
     "shell.execute_reply": "2025-10-19T14:36:34.891138Z"
    }
   },
   "outputs": [
    {
     "data": {
      "image/png": "[encoded data removed]",
      "text/plain": [
       "<Figure size 800x600 with 1 Axes>"
      ]
     },
     "metadata": {},
     "output_type": "display_data"
    }
   ],
   "source": [
    "import matplotlib.pyplot as plt\n",
    "from sklearn.decomposition import PCA\n",
    "\n",
    "words_to_visualize = ['travelers', 'chef', 'coffee', 'dishes', 'guides', 'families', 'villages', 'vacations', 'flavor', 'mountains']\n",
    "\n",
    "vectors = [model.wv[word] for word in words_to_visualize]\n",
    "pca = PCA(n_components=2)\n",
    "reduced_vectors = pca.fit_transform(vectors)\n",
    "\n",
    "plt.figure(figsize=(8, 6))\n",
    "plt.scatter(reduced_vectors[:, 0], reduced_vectors[:, 1], c='steelblue')\n",
    "\n",
    "for i, word in enumerate(words_to_visualize):\n",
    "    plt.annotate(word, xy=(reduced_vectors[i, 0], reduced_vectors[i, 1]), xytext=(5, 2), textcoords='offset points')\n",
    "\n",
    "plt.title('2D PCA Projection of Word Embeddings')\n",
    "plt.xlabel('Principal Component 1')\n",
    "plt.ylabel('Principal Component 2')\n",
    "plt.grid(True)\n",
    "plt.show()"
   ]
  },
  {
   "cell_type": "markdown",
   "id": "5160cebd",
   "metadata": {},
   "source": [
    "### Classroom Discussion\n",
    "\n",
    "Ask students to interpret clusters or directions in the visualization. Which words group together? Why?"
   ]
  },
  {
   "cell_type": "markdown",
   "id": "27b54211",
   "metadata": {},
   "source": [
    "## 8. Extending the Lesson\n",
    "\n",
    "Ideas for further exploration:\n",
    "\n",
    "- Compare Skip-Gram with CBOW by setting `sg=0`.\n",
    "- Experiment with different embedding sizes and window widths.\n",
    "- Evaluate embeddings on tasks like word similarity benchmarks.\n",
    "- Introduce subword information via FastText for handling rare words.\n",
    "- Discuss contextual embeddings (e.g., BERT) as a successor to static embeddings."
   ]
  },
  {
   "cell_type": "markdown",
   "id": "dfda42ea",
   "metadata": {},
   "source": [
    "## 9. Summary\n",
    "\n",
    "- Word embeddings encode semantic information in dense vectors.\n",
    "- Word2Vec learns embeddings by predicting context-target pairs.\n",
    "- Preprocessing choices and hyperparameters significantly influence learned representations.\n",
    "- Visualization and analogies help students intuitively grasp embedding spaces.\n",
    "\n",
    "Encourage students to experiment with larger datasets and compare embeddings produced by different algorithms."
   ]
  }
 ],
 "metadata": {
  "kernelspec": {
   "display_name": "Python 3",
   "language": "python",
   "name": "python3"
  },
  "language_info": {
   "codemirror_mode": {
    "name": "ipython",
    "version": 3
   },
   "file_extension": ".py",
   "mimetype": "text/x-python",
   "name": "python",
   "nbconvert_exporter": "python",
   "pygments_lexer": "ipython3",
   "version": "3.12.10"
  }
 },
 "nbformat": 4,
 "nbformat_minor": 5
}
